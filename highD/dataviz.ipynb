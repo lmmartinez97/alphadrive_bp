{
 "cells": [
  {
   "cell_type": "markdown",
   "metadata": {},
   "source": [
    "# Data visualization for dataset hihgD"
   ]
  },
  {
   "cell_type": "code",
   "execution_count": null,
   "metadata": {},
   "outputs": [
    {
     "ename": "",
     "evalue": "",
     "output_type": "error",
     "traceback": [
      "\u001b[1;31mRunning cells with 'phd_thesis' requires the ipykernel package.\n",
      "\u001b[1;31mRun the following command to install 'ipykernel' into the Python environment. \n",
      "\u001b[1;31mCommand: 'conda install -n phd_thesis ipykernel --update-deps --force-reinstall'"
     ]
    }
   ],
   "source": [
    "import numpy as np\n",
    "import pandas as pd\n",
    "import matplotlib as mlp\n",
    "import matplotlib.animation as animation\n",
    "import matplotlib.pyplot as plt\n",
    "import os\n",
    "import seaborn as sns\n",
    "\n",
    "from matplotlib.patches import Rectangle, Ellipse\n",
    "from rich import print\n",
    "from pprint import pprint\n",
    "\n",
    "from read_csv import read_track_csv, read_static_info, read_meta_info\n",
    "\n",
    "print(sns.__version__)\n",
    "sns.set()\n",
    "sns.set_style(\"whitegrid\")\n",
    "sns.set_context(\"paper\")\n",
    "sns.color_palette(\"hls\", 8)\n",
    "\n",
    "def print_bl():\n",
    "    print(\"\\n\")\n",
    "\n",
    "%matplotlib inline"
   ]
  },
  {
   "cell_type": "code",
   "execution_count": null,
   "metadata": {},
   "outputs": [
    {
     "ename": "",
     "evalue": "",
     "output_type": "error",
     "traceback": [
      "\u001b[1;31mRunning cells with 'phd_thesis' requires the ipykernel package.\n",
      "\u001b[1;31mRun the following command to install 'ipykernel' into the Python environment. \n",
      "\u001b[1;31mCommand: 'conda install -n phd_thesis ipykernel --update-deps --force-reinstall'"
     ]
    }
   ],
   "source": [
    "df = pd.read_csv(\"./highd-dataset-v1.0/data/01_tracks.csv\")\n",
    "tracks = read_track_csv(\"./highd-dataset-v1.0/data/01_tracks.csv\")\n",
    "static_info = read_static_info(\"./highd-dataset-v1.0/data/01_tracksMeta.csv\")\n",
    "video_info = read_meta_info(\"./highd-dataset-v1.0/data/01_recordingMeta.csv\")\n",
    "im_path = \"highd-dataset-v1.0/data_raw/01_highway.png\""
   ]
  },
  {
   "cell_type": "code",
   "execution_count": null,
   "metadata": {},
   "outputs": [
    {
     "ename": "",
     "evalue": "",
     "output_type": "error",
     "traceback": [
      "\u001b[1;31mRunning cells with 'phd_thesis' requires the ipykernel package.\n",
      "\u001b[1;31mRun the following command to install 'ipykernel' into the Python environment. \n",
      "\u001b[1;31mCommand: 'conda install -n phd_thesis ipykernel --update-deps --force-reinstall'"
     ]
    }
   ],
   "source": [
    "class SceneData:\n",
    "    def __init__(self, df, static_info, video_info):\n",
    "        self.df = df\n",
    "        self.static_info = static_info\n",
    "        self.video_info = video_info\n",
    "        self.frame_delay = 1000 / self.video_info[\"frameRate\"]\n",
    "        self.df_list = self.get_df_list()\n",
    "        self.total_frame_number = len(self.df_list)\n",
    "        self.longest_trajectory = 0\n",
    "        self.df_direction_list = self.get_df_direction_list()\n",
    "        self.bg_image = None\n",
    "        self.bg_image_scaling_factor = None\n",
    "\n",
    "    def get_df_list(self):\n",
    "        self.df_list = [\n",
    "            None\n",
    "        ] * self.df.frame.nunique()  # Preallocate list to improve speed - number of dataframes is equal to that of video frames\n",
    "        for frame_number in range(\n",
    "            1, self.df.frame.nunique() + 1, 1\n",
    "        ):  # Iterate through every video frame in the dataframe\n",
    "            self.df_list[frame_number - 1] = self.df[\n",
    "                np.in1d(self.df[\"frame\"].values, [frame_number])\n",
    "            ]  # Select rows of dataframe with df[\"frame\"] == frame_number\n",
    "        return self.df_list\n",
    "\n",
    "    def get_df_direction_list(self):\n",
    "        eastbound_vehicles = []\n",
    "        westbound_vehicles = []\n",
    "        for vehicle_id in self.static_info.keys():\n",
    "            self.longest_trajectory = self.static_info[vehicle_id][\"traveledDistance\"] if self.longest_trajectory < self.static_info[vehicle_id][\"traveledDistance\"] else self.longest_trajectory\n",
    "            if self.static_info[vehicle_id][\"drivingDirection\"] == 2.0:\n",
    "                eastbound_vehicles.append(vehicle_id)\n",
    "            else:\n",
    "                westbound_vehicles.append(vehicle_id)\n",
    "\n",
    "        self.df_direction_list = [None] * df.frame.nunique()\n",
    "        dummy_east, dummy_west = None, None\n",
    "        for idx in range(len(self.df_list)):\n",
    "            dummy_east = self.df_list[idx][\n",
    "                [ident in eastbound_vehicles for ident in self.df_list[idx].id]\n",
    "            ]  # eastbound vehicles\n",
    "            dummy_west = self.df_list[idx][\n",
    "                [ident in westbound_vehicles for ident in self.df_list[idx].id]\n",
    "            ]  # westbound vehicles\n",
    "            self.df_direction_list[idx] = [dummy_east, dummy_west]\n",
    "        return self.df_direction_list\n",
    "\n",
    "    def get_background_img(self, path):\n",
    "        self.bg_image = plt.imread(path)\n",
    "\n",
    "    def plot_frame(self, frame_number=None):\n",
    "        if frame_number is None:\n",
    "            frame_number = np.random.randint(0, self.total_frame_number)\n",
    "        eastbound_df, westbound_df = self.df_direction_list[frame_number]\n",
    "        fig, ax = plt.subplots()\n",
    "        if self.bg_image is not None:\n",
    "            ax.imshow(self.bg_image)\n",
    "        for index, vehicle in eastbound_df.iterrows():\n",
    "            rect = Rectangle(\n",
    "                (int(vehicle.x * 2.45), int(vehicle.y * 2.45)),\n",
    "                int(vehicle.width * 2.45),\n",
    "                int(vehicle.height * 2.45),\n",
    "                linewidth=1,\n",
    "                edgecolor=\"r\",\n",
    "                facecolor=\"none\",\n",
    "            )\n",
    "            ax.add_patch(rect)\n",
    "        for index, vehicle in westbound_df.iterrows():\n",
    "            rect = Rectangle(\n",
    "                (int(vehicle.x * 2.45), int(vehicle.y * 2.45)),\n",
    "                int(vehicle.width * 2.45),\n",
    "                int(vehicle.height * 2.45),\n",
    "                linewidth=1,\n",
    "                edgecolor=\"g\",\n",
    "                facecolor=\"none\",\n",
    "            )\n",
    "            ax.add_patch(rect)\n",
    "        plt.show()\n",
    "\n",
    "    def plot_frame_anim(self, frame_number, ax):\n",
    "        ax.clear()\n",
    "        ax.imshow(self.bg_image)\n",
    "        eastbound_df, westbound_df = self.df_direction_list[frame_number]\n",
    "        for index, vehicle in eastbound_df.iterrows():\n",
    "            rect = Rectangle(\n",
    "                (int(vehicle.x * 2.45), int(vehicle.y * 2.45)),\n",
    "                int(vehicle.width * 2.45),\n",
    "                int(vehicle.height * 2.45),\n",
    "                linewidth=1,\n",
    "                edgecolor=\"r\",\n",
    "                facecolor=\"none\",\n",
    "            )\n",
    "            ax.add_patch(rect)\n",
    "        for index, vehicle in westbound_df.iterrows():\n",
    "            rect = Rectangle(\n",
    "                (int(vehicle.x * 2.45), int(vehicle.y * 2.45)),\n",
    "                int(vehicle.width * 2.45),\n",
    "                int(vehicle.height * 2.45),\n",
    "                linewidth=1,\n",
    "                edgecolor=\"g\",\n",
    "                facecolor=\"none\",\n",
    "            )\n",
    "            ax.add_patch(rect)\n",
    "\n",
    "    def create_gif(self):\n",
    "        fig, ax = plt.subplots()\n",
    "        fig.set_tight_layout(True)\n",
    "        ax.grid(False)\n",
    "        ax.set_xticks([])\n",
    "        ax.set_yticks([])\n",
    "        ax.imshow(self.bg_image)\n",
    "        anim = animation.FuncAnimation(\n",
    "            fig=fig,\n",
    "            func=self.plot_frame_anim,\n",
    "            fargs=(ax,),\n",
    "            frames=self.total_frame_number,\n",
    "            interval=self.frame_delay,\n",
    "            blit=False,\n",
    "        )\n",
    "        if 0:\n",
    "            writer = animation.PillowWriter(\n",
    "                fps=self.video_info[\"frameRate\"],\n",
    "                metadata=dict(artist=\"Me\"),\n",
    "                bitrate=900,\n",
    "            )\n",
    "            anim.save(\"test.gif\", writer=writer)\n",
    "        plt.show()\n",
    "\n",
    "\n",
    "def show_gif(scene_data):\n",
    "    fig, ax = plt.subplots()\n",
    "    fig.set_tight_layout(True)\n",
    "    ax.grid(False)\n",
    "    ax.set_xticks([])\n",
    "    ax.set_yticks([])\n",
    "    ax.imshow(scene_data.bg_image)\n",
    "    anim = animation.FuncAnimation(\n",
    "        fig=fig,\n",
    "        func=scene_data.plot_frame_anim,\n",
    "        fargs=(ax,),\n",
    "        frames=scene_data.total_frame_number,\n",
    "        interval=scene_data.frame_delay / 10,\n",
    "        blit=False,\n",
    "    )\n",
    "    if 0:\n",
    "        writer = animation.PillowWriter(\n",
    "            fps=scene_data.video_info[\"frameRate\"],\n",
    "            metadata=dict(artist=\"Me\"),\n",
    "            bitrate=900,\n",
    "        )\n",
    "        anim.save(\"test.gif\", writer=writer)\n",
    "    plt.show()\n",
    "\n",
    "def show_gif(scene_data):\n",
    "    fig, ax = plt.subplots()\n",
    "    fig.set_tight_layout(True)\n",
    "    ax.imshow(scene_data.bg_image)\n",
    "    anim = animation.FuncAnimation(fig = fig, func = scene_data.plot_frame_anim, fargs=(ax,), frames = scene_data.total_frame_number, interval = scene_data.frame_delay, blit = False)\n",
    "    if 0:\n",
    "        writer = animation.PillowWriter(fps=scene_data.video_info[\"frameRate\"],\n",
    "                                        metadata=dict(artist='Me'),\n",
    "                                        bitrate=900)\n",
    "        anim.save('test.gif', writer=writer)\n",
    "    plt.show()"
   ]
  },
  {
   "cell_type": "code",
   "execution_count": null,
   "metadata": {},
   "outputs": [
    {
     "ename": "",
     "evalue": "",
     "output_type": "error",
     "traceback": [
      "\u001b[1;31mRunning cells with 'phd_thesis' requires the ipykernel package.\n",
      "\u001b[1;31mRun the following command to install 'ipykernel' into the Python environment. \n",
      "\u001b[1;31mCommand: 'conda install -n phd_thesis ipykernel --update-deps --force-reinstall'"
     ]
    }
   ],
   "source": [
    "print(scene_data.bg_image.shape)"
   ]
  },
  {
   "cell_type": "code",
   "execution_count": null,
   "metadata": {},
   "outputs": [
    {
     "ename": "",
     "evalue": "",
     "output_type": "error",
     "traceback": [
      "\u001b[1;31mRunning cells with 'phd_thesis' requires the ipykernel package.\n",
      "\u001b[1;31mRun the following command to install 'ipykernel' into the Python environment. \n",
      "\u001b[1;31mCommand: 'conda install -n phd_thesis ipykernel --update-deps --force-reinstall'"
     ]
    }
   ],
   "source": [
    "scene_data = SceneData(df = df, static_info=static_info, video_info=video_info)\n",
    "scene_data.get_background_img(im_path)"
   ]
  },
  {
   "cell_type": "code",
   "execution_count": null,
   "metadata": {},
   "outputs": [
    {
     "ename": "",
     "evalue": "",
     "output_type": "error",
     "traceback": [
      "\u001b[1;31mRunning cells with 'phd_thesis' requires the ipykernel package.\n",
      "\u001b[1;31mRun the following command to install 'ipykernel' into the Python environment. \n",
      "\u001b[1;31mCommand: 'conda install -n phd_thesis ipykernel --update-deps --force-reinstall'"
     ]
    }
   ],
   "source": [
    "show_gif(scene_data=scene_data)"
   ]
  },
  {
   "cell_type": "code",
   "execution_count": null,
   "metadata": {},
   "outputs": [
    {
     "ename": "",
     "evalue": "",
     "output_type": "error",
     "traceback": [
      "\u001b[1;31mRunning cells with 'phd_thesis' requires the ipykernel package.\n",
      "\u001b[1;31mRun the following command to install 'ipykernel' into the Python environment. \n",
      "\u001b[1;31mCommand: 'conda install -n phd_thesis ipykernel --update-deps --force-reinstall'"
     ]
    }
   ],
   "source": []
  }
 ],
 "metadata": {
  "kernelspec": {
   "display_name": "apr_aut",
   "language": "python",
   "name": "python3"
  },
  "language_info": {
   "codemirror_mode": {
    "name": "ipython",
    "version": 3
   },
   "file_extension": ".py",
   "mimetype": "text/x-python",
   "name": "python",
   "nbconvert_exporter": "python",
   "pygments_lexer": "ipython3",
   "version": "3.12.0"
  },
  "orig_nbformat": 4
 },
 "nbformat": 4,
 "nbformat_minor": 2
}
