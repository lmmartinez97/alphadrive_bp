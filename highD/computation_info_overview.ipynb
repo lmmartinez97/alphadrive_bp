{
 "cells": [
  {
   "cell_type": "code",
   "execution_count": 1,
   "metadata": {},
   "outputs": [],
   "source": [
    "import pandas as pd\n",
    "\n",
    "from datetime import timedelta\n",
    "from rich import print"
   ]
  },
  {
   "cell_type": "code",
   "execution_count": 2,
   "metadata": {},
   "outputs": [],
   "source": [
    "df = pd.read_csv('computation_info_1000ms.csv')"
   ]
  },
  {
   "cell_type": "code",
   "execution_count": 3,
   "metadata": {},
   "outputs": [
    {
     "data": {
      "text/html": [
       "<div>\n",
       "<style scoped>\n",
       "    .dataframe tbody tr th:only-of-type {\n",
       "        vertical-align: middle;\n",
       "    }\n",
       "\n",
       "    .dataframe tbody tr th {\n",
       "        vertical-align: top;\n",
       "    }\n",
       "\n",
       "    .dataframe thead th {\n",
       "        text-align: right;\n",
       "    }\n",
       "</style>\n",
       "<table border=\"1\" class=\"dataframe\">\n",
       "  <thead>\n",
       "    <tr style=\"text-align: right;\">\n",
       "      <th></th>\n",
       "      <th>File</th>\n",
       "      <th>Loading</th>\n",
       "      <th>Get groups</th>\n",
       "      <th>Save groups</th>\n",
       "      <th>Frames</th>\n",
       "      <th>Groups</th>\n",
       "    </tr>\n",
       "  </thead>\n",
       "  <tbody>\n",
       "    <tr>\n",
       "      <th>0</th>\n",
       "      <td>0</td>\n",
       "      <td>1.171294</td>\n",
       "      <td>19.395993</td>\n",
       "      <td>3.726591</td>\n",
       "      <td>902</td>\n",
       "      <td>13955</td>\n",
       "    </tr>\n",
       "    <tr>\n",
       "      <th>1</th>\n",
       "      <td>1</td>\n",
       "      <td>1.360524</td>\n",
       "      <td>20.959424</td>\n",
       "      <td>4.101719</td>\n",
       "      <td>1004</td>\n",
       "      <td>15136</td>\n",
       "    </tr>\n",
       "    <tr>\n",
       "      <th>2</th>\n",
       "      <td>2</td>\n",
       "      <td>1.187658</td>\n",
       "      <td>15.500715</td>\n",
       "      <td>3.334994</td>\n",
       "      <td>1012</td>\n",
       "      <td>12143</td>\n",
       "    </tr>\n",
       "    <tr>\n",
       "      <th>3</th>\n",
       "      <td>3</td>\n",
       "      <td>1.329412</td>\n",
       "      <td>20.618108</td>\n",
       "      <td>4.503632</td>\n",
       "      <td>1088</td>\n",
       "      <td>15639</td>\n",
       "    </tr>\n",
       "    <tr>\n",
       "      <th>4</th>\n",
       "      <td>4</td>\n",
       "      <td>1.544123</td>\n",
       "      <td>21.498342</td>\n",
       "      <td>4.469382</td>\n",
       "      <td>1144</td>\n",
       "      <td>16123</td>\n",
       "    </tr>\n",
       "  </tbody>\n",
       "</table>\n",
       "</div>"
      ],
      "text/plain": [
       "   File   Loading  Get groups  Save groups  Frames  Groups\n",
       "0     0  1.171294   19.395993     3.726591     902   13955\n",
       "1     1  1.360524   20.959424     4.101719    1004   15136\n",
       "2     2  1.187658   15.500715     3.334994    1012   12143\n",
       "3     3  1.329412   20.618108     4.503632    1088   15639\n",
       "4     4  1.544123   21.498342     4.469382    1144   16123"
      ]
     },
     "execution_count": 3,
     "metadata": {},
     "output_type": "execute_result"
    }
   ],
   "source": [
    "df.head()"
   ]
  },
  {
   "cell_type": "code",
   "execution_count": 4,
   "metadata": {},
   "outputs": [
    {
     "data": {
      "text/html": [
       "<div>\n",
       "<style scoped>\n",
       "    .dataframe tbody tr th:only-of-type {\n",
       "        vertical-align: middle;\n",
       "    }\n",
       "\n",
       "    .dataframe tbody tr th {\n",
       "        vertical-align: top;\n",
       "    }\n",
       "\n",
       "    .dataframe thead th {\n",
       "        text-align: right;\n",
       "    }\n",
       "</style>\n",
       "<table border=\"1\" class=\"dataframe\">\n",
       "  <thead>\n",
       "    <tr style=\"text-align: right;\">\n",
       "      <th></th>\n",
       "      <th>File</th>\n",
       "      <th>Loading</th>\n",
       "      <th>Get groups</th>\n",
       "      <th>Save groups</th>\n",
       "      <th>Frames</th>\n",
       "      <th>Groups</th>\n",
       "    </tr>\n",
       "  </thead>\n",
       "  <tbody>\n",
       "    <tr>\n",
       "      <th>count</th>\n",
       "      <td>60.000000</td>\n",
       "      <td>60.000000</td>\n",
       "      <td>60.000000</td>\n",
       "      <td>60.000000</td>\n",
       "      <td>60.000000</td>\n",
       "      <td>60.000000</td>\n",
       "    </tr>\n",
       "    <tr>\n",
       "      <th>mean</th>\n",
       "      <td>29.500000</td>\n",
       "      <td>2.120244</td>\n",
       "      <td>52.922732</td>\n",
       "      <td>7.980891</td>\n",
       "      <td>999.883333</td>\n",
       "      <td>26491.083333</td>\n",
       "    </tr>\n",
       "    <tr>\n",
       "      <th>std</th>\n",
       "      <td>17.464249</td>\n",
       "      <td>1.049612</td>\n",
       "      <td>44.013745</td>\n",
       "      <td>4.434209</td>\n",
       "      <td>201.284022</td>\n",
       "      <td>13170.884631</td>\n",
       "    </tr>\n",
       "    <tr>\n",
       "      <th>min</th>\n",
       "      <td>0.000000</td>\n",
       "      <td>0.578786</td>\n",
       "      <td>9.997668</td>\n",
       "      <td>2.136880</td>\n",
       "      <td>390.000000</td>\n",
       "      <td>7634.000000</td>\n",
       "    </tr>\n",
       "    <tr>\n",
       "      <th>25%</th>\n",
       "      <td>14.750000</td>\n",
       "      <td>1.388289</td>\n",
       "      <td>21.363612</td>\n",
       "      <td>4.492602</td>\n",
       "      <td>955.500000</td>\n",
       "      <td>16002.000000</td>\n",
       "    </tr>\n",
       "    <tr>\n",
       "      <th>50%</th>\n",
       "      <td>29.500000</td>\n",
       "      <td>2.195114</td>\n",
       "      <td>51.814524</td>\n",
       "      <td>8.396070</td>\n",
       "      <td>1066.500000</td>\n",
       "      <td>28027.000000</td>\n",
       "    </tr>\n",
       "    <tr>\n",
       "      <th>75%</th>\n",
       "      <td>44.250000</td>\n",
       "      <td>2.592340</td>\n",
       "      <td>63.358606</td>\n",
       "      <td>9.781241</td>\n",
       "      <td>1119.250000</td>\n",
       "      <td>32781.000000</td>\n",
       "    </tr>\n",
       "    <tr>\n",
       "      <th>max</th>\n",
       "      <td>59.000000</td>\n",
       "      <td>6.776448</td>\n",
       "      <td>289.945949</td>\n",
       "      <td>27.653443</td>\n",
       "      <td>1251.000000</td>\n",
       "      <td>80819.000000</td>\n",
       "    </tr>\n",
       "  </tbody>\n",
       "</table>\n",
       "</div>"
      ],
      "text/plain": [
       "            File    Loading  Get groups  Save groups       Frames  \\\n",
       "count  60.000000  60.000000   60.000000    60.000000    60.000000   \n",
       "mean   29.500000   2.120244   52.922732     7.980891   999.883333   \n",
       "std    17.464249   1.049612   44.013745     4.434209   201.284022   \n",
       "min     0.000000   0.578786    9.997668     2.136880   390.000000   \n",
       "25%    14.750000   1.388289   21.363612     4.492602   955.500000   \n",
       "50%    29.500000   2.195114   51.814524     8.396070  1066.500000   \n",
       "75%    44.250000   2.592340   63.358606     9.781241  1119.250000   \n",
       "max    59.000000   6.776448  289.945949    27.653443  1251.000000   \n",
       "\n",
       "             Groups  \n",
       "count     60.000000  \n",
       "mean   26491.083333  \n",
       "std    13170.884631  \n",
       "min     7634.000000  \n",
       "25%    16002.000000  \n",
       "50%    28027.000000  \n",
       "75%    32781.000000  \n",
       "max    80819.000000  "
      ]
     },
     "execution_count": 4,
     "metadata": {},
     "output_type": "execute_result"
    }
   ],
   "source": [
    "df.describe()"
   ]
  },
  {
   "cell_type": "code",
   "execution_count": 5,
   "metadata": {},
   "outputs": [
    {
     "data": {
      "text/html": [
       "<pre style=\"white-space:pre;overflow-x:auto;line-height:normal;font-family:Menlo,'DejaVu Sans Mono',consolas,'Courier New',monospace\">Column: File --- Cumulative sum: <span style=\"color: #008080; text-decoration-color: #008080; font-weight: bold\">1770.0</span>\n",
       "</pre>\n"
      ],
      "text/plain": [
       "Column: File --- Cumulative sum: \u001b[1;36m1770.0\u001b[0m\n"
      ]
     },
     "metadata": {},
     "output_type": "display_data"
    },
    {
     "data": {
      "text/html": [
       "<pre style=\"white-space:pre;overflow-x:auto;line-height:normal;font-family:Menlo,'DejaVu Sans Mono',consolas,'Courier New',monospace\">Column: Loading --- Cumulative sum: <span style=\"color: #008080; text-decoration-color: #008080; font-weight: bold\">127.2146565914154</span>\n",
       "</pre>\n"
      ],
      "text/plain": [
       "Column: Loading --- Cumulative sum: \u001b[1;36m127.2146565914154\u001b[0m\n"
      ]
     },
     "metadata": {},
     "output_type": "display_data"
    },
    {
     "data": {
      "text/html": [
       "<pre style=\"white-space:pre;overflow-x:auto;line-height:normal;font-family:Menlo,'DejaVu Sans Mono',consolas,'Courier New',monospace\">Column: Get groups --- Cumulative sum: <span style=\"color: #008080; text-decoration-color: #008080; font-weight: bold\">3175.3639421463013</span>\n",
       "</pre>\n"
      ],
      "text/plain": [
       "Column: Get groups --- Cumulative sum: \u001b[1;36m3175.3639421463013\u001b[0m\n"
      ]
     },
     "metadata": {},
     "output_type": "display_data"
    },
    {
     "data": {
      "text/html": [
       "<pre style=\"white-space:pre;overflow-x:auto;line-height:normal;font-family:Menlo,'DejaVu Sans Mono',consolas,'Courier New',monospace\">Column: Save groups --- Cumulative sum: <span style=\"color: #008080; text-decoration-color: #008080; font-weight: bold\">478.8534779548645</span>\n",
       "</pre>\n"
      ],
      "text/plain": [
       "Column: Save groups --- Cumulative sum: \u001b[1;36m478.8534779548645\u001b[0m\n"
      ]
     },
     "metadata": {},
     "output_type": "display_data"
    },
    {
     "data": {
      "text/html": [
       "<pre style=\"white-space:pre;overflow-x:auto;line-height:normal;font-family:Menlo,'DejaVu Sans Mono',consolas,'Courier New',monospace\">Column: Frames --- Cumulative sum: <span style=\"color: #008080; text-decoration-color: #008080; font-weight: bold\">59993.0</span>\n",
       "</pre>\n"
      ],
      "text/plain": [
       "Column: Frames --- Cumulative sum: \u001b[1;36m59993.0\u001b[0m\n"
      ]
     },
     "metadata": {},
     "output_type": "display_data"
    },
    {
     "data": {
      "text/html": [
       "<pre style=\"white-space:pre;overflow-x:auto;line-height:normal;font-family:Menlo,'DejaVu Sans Mono',consolas,'Courier New',monospace\">Column: Groups --- Cumulative sum: <span style=\"color: #008080; text-decoration-color: #008080; font-weight: bold\">1589465.0</span>\n",
       "</pre>\n"
      ],
      "text/plain": [
       "Column: Groups --- Cumulative sum: \u001b[1;36m1589465.0\u001b[0m\n"
      ]
     },
     "metadata": {},
     "output_type": "display_data"
    },
    {
     "data": {
      "text/html": [
       "<pre style=\"white-space:pre;overflow-x:auto;line-height:normal;font-family:Menlo,'DejaVu Sans Mono',consolas,'Courier New',monospace\">Total time spent in calculations is <span style=\"color: #008080; text-decoration-color: #008080; font-weight: bold\">3781.432076692581</span> seconds\n",
       "</pre>\n"
      ],
      "text/plain": [
       "Total time spent in calculations is \u001b[1;36m3781.432076692581\u001b[0m seconds\n"
      ]
     },
     "metadata": {},
     "output_type": "display_data"
    },
    {
     "data": {
      "text/html": [
       "<pre style=\"white-space:pre;overflow-x:auto;line-height:normal;font-family:Menlo,'DejaVu Sans Mono',consolas,'Courier New',monospace\"><span style=\"color: #00ff00; text-decoration-color: #00ff00; font-weight: bold\">1:03:01</span>.<span style=\"color: #008080; text-decoration-color: #008080; font-weight: bold\">432077</span>\n",
       "</pre>\n"
      ],
      "text/plain": [
       "\u001b[1;92m1:03:01\u001b[0m.\u001b[1;36m432077\u001b[0m\n"
      ]
     },
     "metadata": {},
     "output_type": "display_data"
    }
   ],
   "source": [
    "for (value, col_name) in zip(list(df.sum(axis = 0)), df.columns):\n",
    "    print(\"Column: {} --- Cumulative sum: {}\".format(col_name, value))\n",
    "\n",
    "print(\"Total time spent in calculations is {} seconds\".format(sum((list(df.sum(axis=0)))[1:4])))\n",
    "print(timedelta(seconds = sum((list(df.sum(axis=0)))[1:4])))"
   ]
  }
 ],
 "metadata": {
  "kernelspec": {
   "display_name": "apr_aut",
   "language": "python",
   "name": "python3"
  },
  "language_info": {
   "codemirror_mode": {
    "name": "ipython",
    "version": 3
   },
   "file_extension": ".py",
   "mimetype": "text/x-python",
   "name": "python",
   "nbconvert_exporter": "python",
   "pygments_lexer": "ipython3",
   "version": "3.10.10"
  }
 },
 "nbformat": 4,
 "nbformat_minor": 2
}
