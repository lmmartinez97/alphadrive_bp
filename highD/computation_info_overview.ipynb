{
 "cells": [
  {
   "cell_type": "code",
   "execution_count": 16,
   "metadata": {},
   "outputs": [],
   "source": [
    "import pandas as pd\n",
    "\n",
    "from datetime import timedelta\n",
    "from rich import print"
   ]
  },
  {
   "cell_type": "code",
   "execution_count": 2,
   "metadata": {},
   "outputs": [],
   "source": [
    "df = pd.read_csv('computation_info.csv')"
   ]
  },
  {
   "cell_type": "code",
   "execution_count": 5,
   "metadata": {},
   "outputs": [
    {
     "data": {
      "text/html": [
       "<div>\n",
       "<style scoped>\n",
       "    .dataframe tbody tr th:only-of-type {\n",
       "        vertical-align: middle;\n",
       "    }\n",
       "\n",
       "    .dataframe tbody tr th {\n",
       "        vertical-align: top;\n",
       "    }\n",
       "\n",
       "    .dataframe thead th {\n",
       "        text-align: right;\n",
       "    }\n",
       "</style>\n",
       "<table border=\"1\" class=\"dataframe\">\n",
       "  <thead>\n",
       "    <tr style=\"text-align: right;\">\n",
       "      <th></th>\n",
       "      <th>File</th>\n",
       "      <th>Loading</th>\n",
       "      <th>Get groups</th>\n",
       "      <th>Save groups</th>\n",
       "      <th>Frames</th>\n",
       "      <th>Groups</th>\n",
       "    </tr>\n",
       "  </thead>\n",
       "  <tbody>\n",
       "    <tr>\n",
       "      <th>0</th>\n",
       "      <td>0</td>\n",
       "      <td>18.234238</td>\n",
       "      <td>488.972620</td>\n",
       "      <td>93.004680</td>\n",
       "      <td>22539</td>\n",
       "      <td>348750</td>\n",
       "    </tr>\n",
       "    <tr>\n",
       "      <th>1</th>\n",
       "      <td>1</td>\n",
       "      <td>20.720109</td>\n",
       "      <td>527.694561</td>\n",
       "      <td>106.863306</td>\n",
       "      <td>25076</td>\n",
       "      <td>378115</td>\n",
       "    </tr>\n",
       "    <tr>\n",
       "      <th>2</th>\n",
       "      <td>2</td>\n",
       "      <td>17.605708</td>\n",
       "      <td>388.729535</td>\n",
       "      <td>88.094673</td>\n",
       "      <td>25288</td>\n",
       "      <td>303488</td>\n",
       "    </tr>\n",
       "    <tr>\n",
       "      <th>3</th>\n",
       "      <td>3</td>\n",
       "      <td>23.312235</td>\n",
       "      <td>522.043433</td>\n",
       "      <td>114.181649</td>\n",
       "      <td>27182</td>\n",
       "      <td>390687</td>\n",
       "    </tr>\n",
       "    <tr>\n",
       "      <th>4</th>\n",
       "      <td>4</td>\n",
       "      <td>25.063660</td>\n",
       "      <td>546.745502</td>\n",
       "      <td>119.163804</td>\n",
       "      <td>28582</td>\n",
       "      <td>402538</td>\n",
       "    </tr>\n",
       "  </tbody>\n",
       "</table>\n",
       "</div>"
      ],
      "text/plain": [
       "   File    Loading  Get groups  Save groups  Frames  Groups\n",
       "0     0  18.234238  488.972620    93.004680   22539  348750\n",
       "1     1  20.720109  527.694561   106.863306   25076  378115\n",
       "2     2  17.605708  388.729535    88.094673   25288  303488\n",
       "3     3  23.312235  522.043433   114.181649   27182  390687\n",
       "4     4  25.063660  546.745502   119.163804   28582  402538"
      ]
     },
     "execution_count": 5,
     "metadata": {},
     "output_type": "execute_result"
    }
   ],
   "source": [
    "df.head()"
   ]
  },
  {
   "cell_type": "code",
   "execution_count": 6,
   "metadata": {},
   "outputs": [
    {
     "data": {
      "text/html": [
       "<div>\n",
       "<style scoped>\n",
       "    .dataframe tbody tr th:only-of-type {\n",
       "        vertical-align: middle;\n",
       "    }\n",
       "\n",
       "    .dataframe tbody tr th {\n",
       "        vertical-align: top;\n",
       "    }\n",
       "\n",
       "    .dataframe thead th {\n",
       "        text-align: right;\n",
       "    }\n",
       "</style>\n",
       "<table border=\"1\" class=\"dataframe\">\n",
       "  <thead>\n",
       "    <tr style=\"text-align: right;\">\n",
       "      <th></th>\n",
       "      <th>File</th>\n",
       "      <th>Loading</th>\n",
       "      <th>Get groups</th>\n",
       "      <th>Save groups</th>\n",
       "      <th>Frames</th>\n",
       "      <th>Groups</th>\n",
       "    </tr>\n",
       "  </thead>\n",
       "  <tbody>\n",
       "    <tr>\n",
       "      <th>count</th>\n",
       "      <td>60.000000</td>\n",
       "      <td>60.000000</td>\n",
       "      <td>60.000000</td>\n",
       "      <td>60.000000</td>\n",
       "      <td>60.000000</td>\n",
       "      <td>6.000000e+01</td>\n",
       "    </tr>\n",
       "    <tr>\n",
       "      <th>mean</th>\n",
       "      <td>29.500000</td>\n",
       "      <td>35.789046</td>\n",
       "      <td>1325.108503</td>\n",
       "      <td>215.447477</td>\n",
       "      <td>24983.066667</td>\n",
       "      <td>6.620951e+05</td>\n",
       "    </tr>\n",
       "    <tr>\n",
       "      <th>std</th>\n",
       "      <td>17.464249</td>\n",
       "      <td>17.953071</td>\n",
       "      <td>1095.926497</td>\n",
       "      <td>121.020748</td>\n",
       "      <td>5033.742601</td>\n",
       "      <td>3.292165e+05</td>\n",
       "    </tr>\n",
       "    <tr>\n",
       "      <th>min</th>\n",
       "      <td>0.000000</td>\n",
       "      <td>8.604846</td>\n",
       "      <td>255.326318</td>\n",
       "      <td>57.502393</td>\n",
       "      <td>9729.000000</td>\n",
       "      <td>1.908950e+05</td>\n",
       "    </tr>\n",
       "    <tr>\n",
       "      <th>25%</th>\n",
       "      <td>14.750000</td>\n",
       "      <td>22.574677</td>\n",
       "      <td>541.982767</td>\n",
       "      <td>117.918265</td>\n",
       "      <td>23877.750000</td>\n",
       "      <td>3.995752e+05</td>\n",
       "    </tr>\n",
       "    <tr>\n",
       "      <th>50%</th>\n",
       "      <td>29.500000</td>\n",
       "      <td>37.279416</td>\n",
       "      <td>1289.510724</td>\n",
       "      <td>226.700298</td>\n",
       "      <td>26649.500000</td>\n",
       "      <td>7.002560e+05</td>\n",
       "    </tr>\n",
       "    <tr>\n",
       "      <th>75%</th>\n",
       "      <td>44.250000</td>\n",
       "      <td>45.697693</td>\n",
       "      <td>1600.649237</td>\n",
       "      <td>262.961499</td>\n",
       "      <td>27970.000000</td>\n",
       "      <td>8.197015e+05</td>\n",
       "    </tr>\n",
       "    <tr>\n",
       "      <th>max</th>\n",
       "      <td>59.000000</td>\n",
       "      <td>114.347182</td>\n",
       "      <td>7184.167171</td>\n",
       "      <td>755.770380</td>\n",
       "      <td>31274.000000</td>\n",
       "      <td>2.019752e+06</td>\n",
       "    </tr>\n",
       "  </tbody>\n",
       "</table>\n",
       "</div>"
      ],
      "text/plain": [
       "            File     Loading   Get groups  Save groups        Frames  \\\n",
       "count  60.000000   60.000000    60.000000    60.000000     60.000000   \n",
       "mean   29.500000   35.789046  1325.108503   215.447477  24983.066667   \n",
       "std    17.464249   17.953071  1095.926497   121.020748   5033.742601   \n",
       "min     0.000000    8.604846   255.326318    57.502393   9729.000000   \n",
       "25%    14.750000   22.574677   541.982767   117.918265  23877.750000   \n",
       "50%    29.500000   37.279416  1289.510724   226.700298  26649.500000   \n",
       "75%    44.250000   45.697693  1600.649237   262.961499  27970.000000   \n",
       "max    59.000000  114.347182  7184.167171   755.770380  31274.000000   \n",
       "\n",
       "             Groups  \n",
       "count  6.000000e+01  \n",
       "mean   6.620951e+05  \n",
       "std    3.292165e+05  \n",
       "min    1.908950e+05  \n",
       "25%    3.995752e+05  \n",
       "50%    7.002560e+05  \n",
       "75%    8.197015e+05  \n",
       "max    2.019752e+06  "
      ]
     },
     "execution_count": 6,
     "metadata": {},
     "output_type": "execute_result"
    }
   ],
   "source": [
    "df.describe()"
   ]
  },
  {
   "cell_type": "code",
   "execution_count": 19,
   "metadata": {},
   "outputs": [
    {
     "data": {
      "text/html": [
       "<pre style=\"white-space:pre;overflow-x:auto;line-height:normal;font-family:Menlo,'DejaVu Sans Mono',consolas,'Courier New',monospace\">Column: File --- Cumulative sum: <span style=\"color: #008080; text-decoration-color: #008080; font-weight: bold\">1770.0</span>\n",
       "</pre>\n"
      ],
      "text/plain": [
       "Column: File --- Cumulative sum: \u001b[1;36m1770.0\u001b[0m\n"
      ]
     },
     "metadata": {},
     "output_type": "display_data"
    },
    {
     "data": {
      "text/html": [
       "<pre style=\"white-space:pre;overflow-x:auto;line-height:normal;font-family:Menlo,'DejaVu Sans Mono',consolas,'Courier New',monospace\">Column: Loading --- Cumulative sum: <span style=\"color: #008080; text-decoration-color: #008080; font-weight: bold\">2147.342779159546</span>\n",
       "</pre>\n"
      ],
      "text/plain": [
       "Column: Loading --- Cumulative sum: \u001b[1;36m2147.342779159546\u001b[0m\n"
      ]
     },
     "metadata": {},
     "output_type": "display_data"
    },
    {
     "data": {
      "text/html": [
       "<pre style=\"white-space:pre;overflow-x:auto;line-height:normal;font-family:Menlo,'DejaVu Sans Mono',consolas,'Courier New',monospace\">Column: Get groups --- Cumulative sum: <span style=\"color: #008080; text-decoration-color: #008080; font-weight: bold\">79506.51017332077</span>\n",
       "</pre>\n"
      ],
      "text/plain": [
       "Column: Get groups --- Cumulative sum: \u001b[1;36m79506.51017332077\u001b[0m\n"
      ]
     },
     "metadata": {},
     "output_type": "display_data"
    },
    {
     "data": {
      "text/html": [
       "<pre style=\"white-space:pre;overflow-x:auto;line-height:normal;font-family:Menlo,'DejaVu Sans Mono',consolas,'Courier New',monospace\">Column: Save groups --- Cumulative sum: <span style=\"color: #008080; text-decoration-color: #008080; font-weight: bold\">12926.848603725433</span>\n",
       "</pre>\n"
      ],
      "text/plain": [
       "Column: Save groups --- Cumulative sum: \u001b[1;36m12926.848603725433\u001b[0m\n"
      ]
     },
     "metadata": {},
     "output_type": "display_data"
    },
    {
     "data": {
      "text/html": [
       "<pre style=\"white-space:pre;overflow-x:auto;line-height:normal;font-family:Menlo,'DejaVu Sans Mono',consolas,'Courier New',monospace\">Column: Frames --- Cumulative sum: <span style=\"color: #008080; text-decoration-color: #008080; font-weight: bold\">1498984.0</span>\n",
       "</pre>\n"
      ],
      "text/plain": [
       "Column: Frames --- Cumulative sum: \u001b[1;36m1498984.0\u001b[0m\n"
      ]
     },
     "metadata": {},
     "output_type": "display_data"
    },
    {
     "data": {
      "text/html": [
       "<pre style=\"white-space:pre;overflow-x:auto;line-height:normal;font-family:Menlo,'DejaVu Sans Mono',consolas,'Courier New',monospace\">Column: Groups --- Cumulative sum: <span style=\"color: #008080; text-decoration-color: #008080; font-weight: bold\">39725708.0</span>\n",
       "</pre>\n"
      ],
      "text/plain": [
       "Column: Groups --- Cumulative sum: \u001b[1;36m39725708.0\u001b[0m\n"
      ]
     },
     "metadata": {},
     "output_type": "display_data"
    },
    {
     "data": {
      "text/html": [
       "<pre style=\"white-space:pre;overflow-x:auto;line-height:normal;font-family:Menlo,'DejaVu Sans Mono',consolas,'Courier New',monospace\">Total time spent in calculations is <span style=\"color: #008080; text-decoration-color: #008080; font-weight: bold\">94580.70155620575</span> seconds\n",
       "</pre>\n"
      ],
      "text/plain": [
       "Total time spent in calculations is \u001b[1;36m94580.70155620575\u001b[0m seconds\n"
      ]
     },
     "metadata": {},
     "output_type": "display_data"
    },
    {
     "data": {
      "text/html": [
       "<pre style=\"white-space:pre;overflow-x:auto;line-height:normal;font-family:Menlo,'DejaVu Sans Mono',consolas,'Courier New',monospace\"><span style=\"color: #008080; text-decoration-color: #008080; font-weight: bold\">1</span> day, <span style=\"color: #00ff00; text-decoration-color: #00ff00; font-weight: bold\">2:16:20</span>.<span style=\"color: #008080; text-decoration-color: #008080; font-weight: bold\">701556</span>\n",
       "</pre>\n"
      ],
      "text/plain": [
       "\u001b[1;36m1\u001b[0m day, \u001b[1;92m2:16:20\u001b[0m.\u001b[1;36m701556\u001b[0m\n"
      ]
     },
     "metadata": {},
     "output_type": "display_data"
    }
   ],
   "source": [
    "for (value, col_name) in zip(list(df.sum(axis = 0)), df.columns):\n",
    "    print(\"Column: {} --- Cumulative sum: {}\".format(col_name, value))\n",
    "\n",
    "print(\"Total time spent in calculations is {} seconds\".format(sum((list(df.sum(axis=0)))[1:4])))\n",
    "print(timedelta(seconds = sum((list(df.sum(axis=0)))[1:4])))"
   ]
  }
 ],
 "metadata": {
  "kernelspec": {
   "display_name": "apr_aut",
   "language": "python",
   "name": "python3"
  },
  "language_info": {
   "codemirror_mode": {
    "name": "ipython",
    "version": 3
   },
   "file_extension": ".py",
   "mimetype": "text/x-python",
   "name": "python",
   "nbconvert_exporter": "python",
   "pygments_lexer": "ipython3",
   "version": "3.10.10"
  }
 },
 "nbformat": 4,
 "nbformat_minor": 2
}
