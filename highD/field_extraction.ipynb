{
 "cells": [
  {
   "cell_type": "markdown",
   "metadata": {},
   "source": [
    "# Vehicle-agnostic scene processing for information embedding."
   ]
  },
  {
   "cell_type": "markdown",
   "metadata": {},
   "source": [
    "Input data: processed vehicle groups from the highD dataset. See dataviz.ipynb for more info."
   ]
  },
  {
   "cell_type": "code",
   "execution_count": 1,
   "metadata": {},
   "outputs": [],
   "source": [
    "import numpy as np\n",
    "import pandas as pd\n",
    "import matplotlib as mlp\n",
    "import matplotlib.animation as animation\n",
    "import matplotlib.pyplot as plt\n",
    "import os\n",
    "import seaborn as sns\n",
    "\n",
    "from copy import copy\n",
    "from IPython.display import HTML\n",
    "from matplotlib.patches import Rectangle, Ellipse\n",
    "from pprint import pprint\n",
    "from rich import print\n",
    "from sys import platform\n",
    "from time import time\n",
    "\n",
    "from read_csv import read_groups\n",
    "\n",
    "sns.set()\n",
    "sns.set_style(\"whitegrid\")\n",
    "sns.set_context(\"paper\")\n",
    "sns.color_palette(\"hls\", 8)\n",
    "\n",
    "def print_bl():\n",
    "    print(\"\\n\")\n",
    "\n",
    "%matplotlib inline"
   ]
  },
  {
   "cell_type": "code",
   "execution_count": 2,
   "metadata": {},
   "outputs": [],
   "source": [
    "if platform == 'darwin':\n",
    "    dataset_location = \"/Users/lmiguelmartinez/Tesis/datasets/highD/groups_1000ms/\"\n",
    "else:\n",
    "    dataset_location = \"/home/lmmartinez/Tesis/datasets/highD/groups_1000ms/\"\n",
    "dataset_index = 1 #between 1 and 60\n",
    "\n",
    "df_groups_list = read_groups(dataset_location + str(dataset_index).zfill(2) + \"_groups.csv\")"
   ]
  },
  {
   "cell_type": "code",
   "execution_count": 6,
   "metadata": {},
   "outputs": [
    {
     "data": {
      "text/html": [
       "<div>\n",
       "<style scoped>\n",
       "    .dataframe tbody tr th:only-of-type {\n",
       "        vertical-align: middle;\n",
       "    }\n",
       "\n",
       "    .dataframe tbody tr th {\n",
       "        vertical-align: top;\n",
       "    }\n",
       "\n",
       "    .dataframe thead th {\n",
       "        text-align: right;\n",
       "    }\n",
       "</style>\n",
       "<table border=\"1\" class=\"dataframe\">\n",
       "  <thead>\n",
       "    <tr style=\"text-align: right;\">\n",
       "      <th></th>\n",
       "      <th>frame</th>\n",
       "      <th>id</th>\n",
       "      <th>x</th>\n",
       "      <th>y</th>\n",
       "      <th>width</th>\n",
       "      <th>height</th>\n",
       "      <th>xVelocity</th>\n",
       "      <th>yVelocity</th>\n",
       "      <th>xAcceleration</th>\n",
       "      <th>yAcceleration</th>\n",
       "      <th>...</th>\n",
       "      <th>precedingXVelocity</th>\n",
       "      <th>precedingId</th>\n",
       "      <th>followingId</th>\n",
       "      <th>leftPrecedingId</th>\n",
       "      <th>leftAlongsideId</th>\n",
       "      <th>leftFollowingId</th>\n",
       "      <th>rightPrecedingId</th>\n",
       "      <th>rightAlongsideId</th>\n",
       "      <th>rightFollowingId</th>\n",
       "      <th>laneId</th>\n",
       "    </tr>\n",
       "    <tr>\n",
       "      <th>Index</th>\n",
       "      <th></th>\n",
       "      <th></th>\n",
       "      <th></th>\n",
       "      <th></th>\n",
       "      <th></th>\n",
       "      <th></th>\n",
       "      <th></th>\n",
       "      <th></th>\n",
       "      <th></th>\n",
       "      <th></th>\n",
       "      <th></th>\n",
       "      <th></th>\n",
       "      <th></th>\n",
       "      <th></th>\n",
       "      <th></th>\n",
       "      <th></th>\n",
       "      <th></th>\n",
       "      <th></th>\n",
       "      <th></th>\n",
       "      <th></th>\n",
       "      <th></th>\n",
       "    </tr>\n",
       "  </thead>\n",
       "  <tbody>\n",
       "    <tr>\n",
       "      <th>2357</th>\n",
       "      <td>76</td>\n",
       "      <td>15</td>\n",
       "      <td>51.03</td>\n",
       "      <td>22.01</td>\n",
       "      <td>3.64</td>\n",
       "      <td>1.72</td>\n",
       "      <td>35.78</td>\n",
       "      <td>0.06</td>\n",
       "      <td>0.05</td>\n",
       "      <td>0.06</td>\n",
       "      <td>...</td>\n",
       "      <td>36.33</td>\n",
       "      <td>12</td>\n",
       "      <td>0</td>\n",
       "      <td>0</td>\n",
       "      <td>0</td>\n",
       "      <td>0</td>\n",
       "      <td>11</td>\n",
       "      <td>0</td>\n",
       "      <td>0</td>\n",
       "      <td>5</td>\n",
       "    </tr>\n",
       "  </tbody>\n",
       "</table>\n",
       "<p>1 rows × 25 columns</p>\n",
       "</div>"
      ],
      "text/plain": [
       "      frame  id      x      y width height xVelocity yVelocity xAcceleration  \\\n",
       "Index                                                                          \n",
       "2357     76  15  51.03  22.01  3.64   1.72     35.78      0.06          0.05   \n",
       "\n",
       "      yAcceleration  ... precedingXVelocity precedingId followingId  \\\n",
       "Index                ...                                              \n",
       "2357           0.06  ...              36.33          12           0   \n",
       "\n",
       "      leftPrecedingId leftAlongsideId leftFollowingId rightPrecedingId  \\\n",
       "Index                                                                    \n",
       "2357                0               0               0               11   \n",
       "\n",
       "      rightAlongsideId rightFollowingId laneId  \n",
       "Index                                           \n",
       "2357                 0                0      5  \n",
       "\n",
       "[1 rows x 25 columns]"
      ]
     },
     "metadata": {},
     "output_type": "display_data"
    }
   ],
   "source": [
    "display(df_groups_list[30])"
   ]
  },
  {
   "cell_type": "code",
   "execution_count": null,
   "metadata": {},
   "outputs": [],
   "source": []
  },
  {
   "cell_type": "code",
   "execution_count": null,
   "metadata": {},
   "outputs": [],
   "source": []
  }
 ],
 "metadata": {
  "kernelspec": {
   "display_name": "apr_aut",
   "language": "python",
   "name": "python3"
  },
  "language_info": {
   "codemirror_mode": {
    "name": "ipython",
    "version": 3
   },
   "file_extension": ".py",
   "mimetype": "text/x-python",
   "name": "python",
   "nbconvert_exporter": "python",
   "pygments_lexer": "ipython3",
   "version": "3.10.10"
  },
  "orig_nbformat": 4
 },
 "nbformat": 4,
 "nbformat_minor": 2
}
